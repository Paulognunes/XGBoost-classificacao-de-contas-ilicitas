{
 "cells": [
  {
   "cell_type": "markdown",
   "id": "5ccbf456",
   "metadata": {},
   "source": [
    "# <font color='#150E0D' style='font-family:Trajan-Pro; font-size: 34px;'> Modelo Preditivo de Aprovação de Crédito </font>\n",
    "<hr style='border: 3px solid #150E0D'>"
   ]
  },
  {
   "cell_type": "markdown",
   "id": "05b47026",
   "metadata": {},
   "source": [
    "# <font color='#150E0D' style='font-family:Trajan-Pro; font-size: 28px;'> Objetivo </font>\n",
    "<hr style='border: 2px solid #150E0D'>"
   ]
  },
  {
   "cell_type": "markdown",
   "id": "3322221b",
   "metadata": {},
   "source": [
    "<p style='line-height: 2; text-align: justify; text-indent: 35px;'> Este notebook tem como objetivo a criação de um modelo preditivo responsável por identificar quais solicitações de crédito possuem maiores chances de se tornarem inadimplentes.  </p>"
   ]
  },
  {
   "cell_type": "markdown",
   "id": "035c8fed",
   "metadata": {},
   "source": [
    "# <font color='#150E0D' style='font-family:Trajan-Pro; font-size: 28px;'> Bibliotecas Utilizadas </font>\n",
    "<hr style='border: 2px solid #150E0D'>"
   ]
  },
  {
   "cell_type": "code",
   "execution_count": 1,
   "id": "1198d65b",
   "metadata": {},
   "outputs": [],
   "source": [
    "# Lista de Imports\n",
    "import matplotlib.pyplot as plt\n",
    "import numpy as np\n",
    "import pandas as pd\n",
    "import seaborn as sns\n",
    "import xgboost as xgb\n",
    "\n",
    "from scipy.stats import normaltest\n",
    "from typing import List\n",
    "from xgboost import plot_tree"
   ]
  },
  {
   "cell_type": "markdown",
   "id": "5a91978a",
   "metadata": {},
   "source": [
    "# <font color='#150E0D' style='font-family:Trajan-Pro; font-size: 28px;'> Dados </font>\n",
    "<hr style='border: 2px solid #150E0D'>"
   ]
  },
  {
   "cell_type": "code",
   "execution_count": 2,
   "id": "a06316ea",
   "metadata": {},
   "outputs": [
    {
     "data": {
      "text/html": [
       "<div>\n",
       "<style scoped>\n",
       "    .dataframe tbody tr th:only-of-type {\n",
       "        vertical-align: middle;\n",
       "    }\n",
       "\n",
       "    .dataframe tbody tr th {\n",
       "        vertical-align: top;\n",
       "    }\n",
       "\n",
       "    .dataframe thead th {\n",
       "        text-align: right;\n",
       "    }\n",
       "</style>\n",
       "<table border=\"1\" class=\"dataframe\">\n",
       "  <thead>\n",
       "    <tr style=\"text-align: right;\">\n",
       "      <th></th>\n",
       "      <th>inadimplente</th>\n",
       "      <th>util_linhas_inseguras</th>\n",
       "      <th>idade</th>\n",
       "      <th>vezes_passou_de_30_59_dias</th>\n",
       "      <th>razao_debito</th>\n",
       "      <th>salario_mensal</th>\n",
       "      <th>numero_linhas_crdto_aberto</th>\n",
       "      <th>numero_vezes_passou_90_dias</th>\n",
       "      <th>numero_emprestimos_imobiliarios</th>\n",
       "      <th>numero_de_vezes_que_passou_60_89_dias</th>\n",
       "      <th>numero_de_dependentes</th>\n",
       "    </tr>\n",
       "  </thead>\n",
       "  <tbody>\n",
       "    <tr>\n",
       "      <th>0</th>\n",
       "      <td>1</td>\n",
       "      <td>0.766127</td>\n",
       "      <td>45</td>\n",
       "      <td>2</td>\n",
       "      <td>0.802982</td>\n",
       "      <td>9120.0</td>\n",
       "      <td>13</td>\n",
       "      <td>0</td>\n",
       "      <td>6</td>\n",
       "      <td>0</td>\n",
       "      <td>2.0</td>\n",
       "    </tr>\n",
       "    <tr>\n",
       "      <th>1</th>\n",
       "      <td>0</td>\n",
       "      <td>0.957151</td>\n",
       "      <td>40</td>\n",
       "      <td>0</td>\n",
       "      <td>0.121876</td>\n",
       "      <td>2600.0</td>\n",
       "      <td>4</td>\n",
       "      <td>0</td>\n",
       "      <td>0</td>\n",
       "      <td>0</td>\n",
       "      <td>1.0</td>\n",
       "    </tr>\n",
       "    <tr>\n",
       "      <th>2</th>\n",
       "      <td>0</td>\n",
       "      <td>0.658180</td>\n",
       "      <td>38</td>\n",
       "      <td>1</td>\n",
       "      <td>0.085113</td>\n",
       "      <td>3042.0</td>\n",
       "      <td>2</td>\n",
       "      <td>1</td>\n",
       "      <td>0</td>\n",
       "      <td>0</td>\n",
       "      <td>0.0</td>\n",
       "    </tr>\n",
       "    <tr>\n",
       "      <th>3</th>\n",
       "      <td>0</td>\n",
       "      <td>0.233810</td>\n",
       "      <td>30</td>\n",
       "      <td>0</td>\n",
       "      <td>0.036050</td>\n",
       "      <td>3300.0</td>\n",
       "      <td>5</td>\n",
       "      <td>0</td>\n",
       "      <td>0</td>\n",
       "      <td>0</td>\n",
       "      <td>0.0</td>\n",
       "    </tr>\n",
       "    <tr>\n",
       "      <th>4</th>\n",
       "      <td>0</td>\n",
       "      <td>0.907239</td>\n",
       "      <td>49</td>\n",
       "      <td>1</td>\n",
       "      <td>0.024926</td>\n",
       "      <td>63588.0</td>\n",
       "      <td>7</td>\n",
       "      <td>0</td>\n",
       "      <td>1</td>\n",
       "      <td>0</td>\n",
       "      <td>0.0</td>\n",
       "    </tr>\n",
       "  </tbody>\n",
       "</table>\n",
       "</div>"
      ],
      "text/plain": [
       "   inadimplente  util_linhas_inseguras  idade  vezes_passou_de_30_59_dias  \\\n",
       "0             1               0.766127     45                           2   \n",
       "1             0               0.957151     40                           0   \n",
       "2             0               0.658180     38                           1   \n",
       "3             0               0.233810     30                           0   \n",
       "4             0               0.907239     49                           1   \n",
       "\n",
       "   razao_debito  salario_mensal  numero_linhas_crdto_aberto  \\\n",
       "0      0.802982          9120.0                          13   \n",
       "1      0.121876          2600.0                           4   \n",
       "2      0.085113          3042.0                           2   \n",
       "3      0.036050          3300.0                           5   \n",
       "4      0.024926         63588.0                           7   \n",
       "\n",
       "   numero_vezes_passou_90_dias  numero_emprestimos_imobiliarios  \\\n",
       "0                            0                                6   \n",
       "1                            0                                0   \n",
       "2                            1                                0   \n",
       "3                            0                                0   \n",
       "4                            0                                1   \n",
       "\n",
       "   numero_de_vezes_que_passou_60_89_dias  numero_de_dependentes  \n",
       "0                                      0                    2.0  \n",
       "1                                      0                    1.0  \n",
       "2                                      0                    0.0  \n",
       "3                                      0                    0.0  \n",
       "4                                      0                    0.0  "
      ]
     },
     "execution_count": 2,
     "metadata": {},
     "output_type": "execute_result"
    }
   ],
   "source": [
    "# Dados de Treino\n",
    "treino = pd.read_csv(\"../Dados/treino.csv\")\n",
    "\n",
    "# Removendo Dados Duplicados\n",
    "treino.drop_duplicates(inplace=True)\n",
    "\n",
    "treino.head(5)"
   ]
  },
  {
   "cell_type": "code",
   "execution_count": 3,
   "id": "a1c1bef3",
   "metadata": {},
   "outputs": [
    {
     "data": {
      "text/html": [
       "<div>\n",
       "<style scoped>\n",
       "    .dataframe tbody tr th:only-of-type {\n",
       "        vertical-align: middle;\n",
       "    }\n",
       "\n",
       "    .dataframe tbody tr th {\n",
       "        vertical-align: top;\n",
       "    }\n",
       "\n",
       "    .dataframe thead th {\n",
       "        text-align: right;\n",
       "    }\n",
       "</style>\n",
       "<table border=\"1\" class=\"dataframe\">\n",
       "  <thead>\n",
       "    <tr style=\"text-align: right;\">\n",
       "      <th></th>\n",
       "      <th>util_linhas_inseguras</th>\n",
       "      <th>idade</th>\n",
       "      <th>vezes_passou_de_30_59_dias</th>\n",
       "      <th>razao_debito</th>\n",
       "      <th>salario_mensal</th>\n",
       "      <th>numero_linhas_crdto_aberto</th>\n",
       "      <th>numero_vezes_passou_90_dias</th>\n",
       "      <th>numero_emprestimos_imobiliarios</th>\n",
       "      <th>numero_de_vezes_que_passou_60_89_dias</th>\n",
       "      <th>numero_de_dependentes</th>\n",
       "    </tr>\n",
       "  </thead>\n",
       "  <tbody>\n",
       "    <tr>\n",
       "      <th>0</th>\n",
       "      <td>0.025849</td>\n",
       "      <td>62</td>\n",
       "      <td>0</td>\n",
       "      <td>0.081775</td>\n",
       "      <td>8180.0</td>\n",
       "      <td>3</td>\n",
       "      <td>0</td>\n",
       "      <td>2</td>\n",
       "      <td>0</td>\n",
       "      <td>0.0</td>\n",
       "    </tr>\n",
       "    <tr>\n",
       "      <th>1</th>\n",
       "      <td>0.667083</td>\n",
       "      <td>55</td>\n",
       "      <td>0</td>\n",
       "      <td>0.153112</td>\n",
       "      <td>2200.0</td>\n",
       "      <td>3</td>\n",
       "      <td>0</td>\n",
       "      <td>0</td>\n",
       "      <td>0</td>\n",
       "      <td>0.0</td>\n",
       "    </tr>\n",
       "    <tr>\n",
       "      <th>2</th>\n",
       "      <td>0.007093</td>\n",
       "      <td>44</td>\n",
       "      <td>0</td>\n",
       "      <td>0.148800</td>\n",
       "      <td>7499.0</td>\n",
       "      <td>20</td>\n",
       "      <td>0</td>\n",
       "      <td>1</td>\n",
       "      <td>0</td>\n",
       "      <td>0.0</td>\n",
       "    </tr>\n",
       "    <tr>\n",
       "      <th>3</th>\n",
       "      <td>0.091213</td>\n",
       "      <td>54</td>\n",
       "      <td>0</td>\n",
       "      <td>0.351635</td>\n",
       "      <td>5900.0</td>\n",
       "      <td>15</td>\n",
       "      <td>0</td>\n",
       "      <td>1</td>\n",
       "      <td>1</td>\n",
       "      <td>0.0</td>\n",
       "    </tr>\n",
       "    <tr>\n",
       "      <th>4</th>\n",
       "      <td>0.112680</td>\n",
       "      <td>54</td>\n",
       "      <td>0</td>\n",
       "      <td>0.065959</td>\n",
       "      <td>2167.0</td>\n",
       "      <td>3</td>\n",
       "      <td>0</td>\n",
       "      <td>0</td>\n",
       "      <td>0</td>\n",
       "      <td>0.0</td>\n",
       "    </tr>\n",
       "  </tbody>\n",
       "</table>\n",
       "</div>"
      ],
      "text/plain": [
       "   util_linhas_inseguras  idade  vezes_passou_de_30_59_dias  razao_debito  \\\n",
       "0               0.025849     62                           0      0.081775   \n",
       "1               0.667083     55                           0      0.153112   \n",
       "2               0.007093     44                           0      0.148800   \n",
       "3               0.091213     54                           0      0.351635   \n",
       "4               0.112680     54                           0      0.065959   \n",
       "\n",
       "   salario_mensal  numero_linhas_crdto_aberto  numero_vezes_passou_90_dias  \\\n",
       "0          8180.0                           3                            0   \n",
       "1          2200.0                           3                            0   \n",
       "2          7499.0                          20                            0   \n",
       "3          5900.0                          15                            0   \n",
       "4          2167.0                           3                            0   \n",
       "\n",
       "   numero_emprestimos_imobiliarios  numero_de_vezes_que_passou_60_89_dias  \\\n",
       "0                                2                                      0   \n",
       "1                                0                                      0   \n",
       "2                                1                                      0   \n",
       "3                                1                                      1   \n",
       "4                                0                                      0   \n",
       "\n",
       "   numero_de_dependentes  \n",
       "0                    0.0  \n",
       "1                    0.0  \n",
       "2                    0.0  \n",
       "3                    0.0  \n",
       "4                    0.0  "
      ]
     },
     "execution_count": 3,
     "metadata": {},
     "output_type": "execute_result"
    }
   ],
   "source": [
    "# Dados de Teste\n",
    "teste = pd.read_csv(\"../Dados/teste.csv\")\n",
    "\n",
    "# Removendo Dados Duplicados\n",
    "teste.drop_duplicates(inplace=True)\n",
    "\n",
    "teste.head(5)"
   ]
  },
  {
   "cell_type": "markdown",
   "id": "6be33e20",
   "metadata": {},
   "source": [
    "# <font color='#150E0D' style='font-family:Trajan-Pro; font-size: 28px;'>Lidando com os Valores Faltantes </font>\n",
    "<hr style='border: 2px solid #150E0D'>"
   ]
  },
  {
   "cell_type": "markdown",
   "id": "5f3a811d",
   "metadata": {},
   "source": [
    "<p style='line-height: 2; text-align: justify; text-indent: 35px;'> Antes de criar qualquer modelo de aprendizado de máquinas, é importante verificar se existem valores faltantes no conjunto de dados. Como pode ser observado abaixo, nos dados de treino e teste, existem diversos valores faltantes nas colunas \"salario_mensal\" e \"numero_de_dependentes\". Assim, é interessante visualizar o tipo de distribuição dos dados para escolhermos o método de substituição desses valores. </p>"
   ]
  },
  {
   "cell_type": "code",
   "execution_count": 4,
   "id": "1c7b38a2",
   "metadata": {},
   "outputs": [
    {
     "data": {
      "text/plain": [
       "inadimplente                                 0\n",
       "util_linhas_inseguras                        0\n",
       "idade                                        0\n",
       "vezes_passou_de_30_59_dias                   0\n",
       "razao_debito                                 0\n",
       "salario_mensal                           21460\n",
       "numero_linhas_crdto_aberto                   0\n",
       "numero_vezes_passou_90_dias                  0\n",
       "numero_emprestimos_imobiliarios              0\n",
       "numero_de_vezes_que_passou_60_89_dias        0\n",
       "numero_de_dependentes                     2821\n",
       "dtype: int64"
      ]
     },
     "execution_count": 4,
     "metadata": {},
     "output_type": "execute_result"
    }
   ],
   "source": [
    "# Dados Faltantes - Treino\n",
    "treino.isnull().sum()"
   ]
  },
  {
   "cell_type": "code",
   "execution_count": 5,
   "id": "325cd3e5",
   "metadata": {},
   "outputs": [
    {
     "data": {
      "text/plain": [
       "util_linhas_inseguras                       0\n",
       "idade                                       0\n",
       "vezes_passou_de_30_59_dias                  0\n",
       "razao_debito                                0\n",
       "salario_mensal                           7911\n",
       "numero_linhas_crdto_aberto                  0\n",
       "numero_vezes_passou_90_dias                 0\n",
       "numero_emprestimos_imobiliarios             0\n",
       "numero_de_vezes_que_passou_60_89_dias       0\n",
       "numero_de_dependentes                    1037\n",
       "dtype: int64"
      ]
     },
     "execution_count": 5,
     "metadata": {},
     "output_type": "execute_result"
    }
   ],
   "source": [
    "# Dados Faltantes - Teste\n",
    "teste.isnull().sum()"
   ]
  },
  {
   "cell_type": "markdown",
   "id": "f843f817",
   "metadata": {},
   "source": [
    "<p style='line-height: 2; text-align: justify; text-indent: 35px;'> Após criar um histograma da variável \"salário_mensal\", fica evidente que a amplitude da escala decimal não proporciona uma boa visualização. Uma solução simples para esse tipo de problema é transformar todos os valores dessa coluna para a escala logarítmica. </p>\n",
    "    \n",
    "<p style='line-height: 2; text-align: justify; text-indent: 35px;'>Ao analisar o histograma da variavel \"salario_mensal\" na escala logarítmica, observa-se que sua distribuição lembra uma distribuição normal, porém, com assimetria tanto à esquerda quando à direita. Para ter certeza sobre o tipo da distribuição, é feito um teste de normalidade, onde foi constatado que a distribuição não é normal.  </p>"
   ]
  },
  {
   "cell_type": "code",
   "execution_count": 6,
   "id": "adb5e93d",
   "metadata": {},
   "outputs": [
    {
     "name": "stderr",
     "output_type": "stream",
     "text": [
      "C:\\Users\\paulo\\Anaconda3\\lib\\site-packages\\seaborn\\distributions.py:2619: FutureWarning: `distplot` is a deprecated function and will be removed in a future version. Please adapt your code to use either `displot` (a figure-level function with similar flexibility) or `histplot` (an axes-level function for histograms).\n",
      "  warnings.warn(msg, FutureWarning)\n"
     ]
    },
    {
     "data": {
      "text/plain": [
       "<AxesSubplot:title={'center':'Distribuição de Frequências - Treino'}, xlabel='Salário Mensal (R$)', ylabel='Density'>"
      ]
     },
     "execution_count": 6,
     "metadata": {},
     "output_type": "execute_result"
    },
    {
     "data": {
      "image/png": "[encoded data removed]",
      "text/plain": [
       "<Figure size 864x432 with 1 Axes>"
      ]
     },
     "metadata": {
      "needs_background": "light"
     },
     "output_type": "display_data"
    }
   ],
   "source": [
    "# Histograma do log do salário mensal\n",
    "ax = sns.distplot(treino['salario_mensal'])\n",
    "ax.figure.set_size_inches(12, 6)\n",
    "ax.set_title('Distribuição de Frequências - Treino', fontsize=20)\n",
    "ax.set_xlabel('Salário Mensal (R$)', fontsize=16)\n",
    "ax"
   ]
  },
  {
   "cell_type": "code",
   "execution_count": 7,
   "id": "88b87869",
   "metadata": {},
   "outputs": [
    {
     "name": "stderr",
     "output_type": "stream",
     "text": [
      "C:\\Users\\paulo\\Anaconda3\\lib\\site-packages\\seaborn\\distributions.py:2619: FutureWarning: `distplot` is a deprecated function and will be removed in a future version. Please adapt your code to use either `displot` (a figure-level function with similar flexibility) or `histplot` (an axes-level function for histograms).\n",
      "  warnings.warn(msg, FutureWarning)\n"
     ]
    },
    {
     "data": {
      "text/plain": [
       "<AxesSubplot:title={'center':'Distribuição de Frequências - Treino'}, xlabel='Log do Salário Mensal (R$)', ylabel='Density'>"
      ]
     },
     "execution_count": 7,
     "metadata": {},
     "output_type": "execute_result"
    },
    {
     "data": {
      "image/png": "[encoded data removed]",
      "text/plain": [
       "<Figure size 864x432 with 1 Axes>"
      ]
     },
     "metadata": {
      "needs_background": "light"
     },
     "output_type": "display_data"
    }
   ],
   "source": [
    "# Visualização da Distribuição das Variáveis Faltantes\n",
    "log_salario_treino = np.log(treino['salario_mensal'] + 1)\n",
    "\n",
    "# Histograma do log do salário mensal\n",
    "ax = sns.distplot(log_salario_treino)\n",
    "ax.figure.set_size_inches(12, 6)\n",
    "ax.set_title('Distribuição de Frequências - Treino', fontsize=20)\n",
    "ax.set_xlabel('Log do Salário Mensal (R$)', fontsize=16)\n",
    "ax"
   ]
  },
  {
   "cell_type": "code",
   "execution_count": 8,
   "id": "46961480",
   "metadata": {},
   "outputs": [
    {
     "name": "stderr",
     "output_type": "stream",
     "text": [
      "C:\\Users\\paulo\\Anaconda3\\lib\\site-packages\\seaborn\\distributions.py:2619: FutureWarning: `distplot` is a deprecated function and will be removed in a future version. Please adapt your code to use either `displot` (a figure-level function with similar flexibility) or `histplot` (an axes-level function for histograms).\n",
      "  warnings.warn(msg, FutureWarning)\n"
     ]
    },
    {
     "data": {
      "text/plain": [
       "<AxesSubplot:title={'center':'Distribuição de Frequências - Teste'}, xlabel='Log do Salário Mensal (R$)', ylabel='Density'>"
      ]
     },
     "execution_count": 8,
     "metadata": {},
     "output_type": "execute_result"
    },
    {
     "data": {
      "image/png": "[encoded data removed]",
      "text/plain": [
       "<Figure size 864x432 with 1 Axes>"
      ]
     },
     "metadata": {
      "needs_background": "light"
     },
     "output_type": "display_data"
    }
   ],
   "source": [
    "# Visualização da Distribuição das Variáveis Faltantes\n",
    "log_salario_teste = np.log(teste['salario_mensal'] + 1)\n",
    "\n",
    "# Histograma do log do salário mensal\n",
    "ax = sns.distplot(log_salario_teste)\n",
    "ax.figure.set_size_inches(12, 6)\n",
    "ax.set_title('Distribuição de Frequências - Teste', fontsize=20)\n",
    "ax.set_xlabel('Log do Salário Mensal (R$)', fontsize=16)\n",
    "ax"
   ]
  },
  {
   "cell_type": "code",
   "execution_count": 9,
   "id": "6a924149",
   "metadata": {},
   "outputs": [],
   "source": [
    "def teste_de_normalidade(dados: List[float], alpha: float) -> str:\n",
    "    # Realiza um teste de normalidade dos dados inseridos, retornando uma str dizendo se segue, ou não, uma distribuição normal\n",
    "    stats, pvalue = normaltest(dados, nan_policy='omit')\n",
    "    if pvalue < alpha:\n",
    "        return f\"Os dados não seguem uma distribuição normal. O valor de p é {pvalue}\"\n",
    "               \n",
    "    else:\n",
    "        return f\"Os dados seguem uma distribuição normal. O valor de p é {pvalue}\""
   ]
  },
  {
   "cell_type": "code",
   "execution_count": 10,
   "id": "06fcb0f8",
   "metadata": {},
   "outputs": [
    {
     "data": {
      "text/plain": [
       "'Os dados não seguem uma distribuição normal. O valor de p é 0.0'"
      ]
     },
     "execution_count": 10,
     "metadata": {},
     "output_type": "execute_result"
    }
   ],
   "source": [
    "# Teste de normalidade dos salário - Treino\n",
    "teste_de_normalidade(treino['salario_mensal'], 0.05)"
   ]
  },
  {
   "cell_type": "code",
   "execution_count": 11,
   "id": "6743348c",
   "metadata": {},
   "outputs": [
    {
     "data": {
      "text/plain": [
       "'Os dados não seguem uma distribuição normal. O valor de p é 0.0'"
      ]
     },
     "execution_count": 11,
     "metadata": {},
     "output_type": "execute_result"
    }
   ],
   "source": [
    "# Teste de normalidade dos salário - Teste\n",
    "teste_de_normalidade(teste['salario_mensal'], 0.05)"
   ]
  },
  {
   "cell_type": "markdown",
   "id": "cb51a9b8",
   "metadata": {},
   "source": [
    "<p style='line-height: 2; text-align: justify; text-indent: 35px;'> Assim, a análise do tipo de distribuição é importante para definir qual das medidas de tendência central deve ser utilizada para preencher os valores faltantes. Se as distribuições fossem normais, a média seria a medida ideal para preencher esses valores. No entanto, por se tratrar de uma distribuição assimétria, a média é drasticamente afetada pelos valores das extremidades. Dessa forma, é aconselhável utilizar a mediana para o preenchimento dos valores faltantes.</p>"
   ]
  },
  {
   "cell_type": "code",
   "execution_count": 12,
   "id": "421c8b72",
   "metadata": {},
   "outputs": [],
   "source": [
    "# Preenchendo os valores faltantes\n",
    "treino['salario_mensal'].fillna(value=treino['salario_mensal'].median(), inplace=True)\n",
    "teste['salario_mensal'].fillna(value=teste['salario_mensal'].median(), inplace=True)"
   ]
  },
  {
   "cell_type": "markdown",
   "id": "2990c8cf",
   "metadata": {},
   "source": [
    "<p style='line-height: 2; text-align: justify; text-indent: 35px;'> Para o número de dependentes, vamos utilizar a média para preencher os valores faltantes. Demograficamente, a tendência é que as pessoas tenham poucos filhos. Assim, é bem provável que valores entre 0-2 estejam mais coerentes com a realidade do que valores maiores (5+).</p>"
   ]
  },
  {
   "cell_type": "code",
   "execution_count": 13,
   "id": "7ca7847b",
   "metadata": {},
   "outputs": [],
   "source": [
    "# Preenchendo os valores faltantes\n",
    "treino['numero_de_dependentes'].fillna(value=round(treino['numero_de_dependentes'].mean(), 0), inplace=True)\n",
    "teste['numero_de_dependentes'].fillna(value=round(teste['numero_de_dependentes'].mean(), 0), inplace=True)"
   ]
  },
  {
   "cell_type": "code",
   "execution_count": 14,
   "id": "f1a0c0b5",
   "metadata": {},
   "outputs": [
    {
     "data": {
      "text/plain": [
       "inadimplente                             0\n",
       "util_linhas_inseguras                    0\n",
       "idade                                    0\n",
       "vezes_passou_de_30_59_dias               0\n",
       "razao_debito                             0\n",
       "salario_mensal                           0\n",
       "numero_linhas_crdto_aberto               0\n",
       "numero_vezes_passou_90_dias              0\n",
       "numero_emprestimos_imobiliarios          0\n",
       "numero_de_vezes_que_passou_60_89_dias    0\n",
       "numero_de_dependentes                    0\n",
       "dtype: int64"
      ]
     },
     "execution_count": 14,
     "metadata": {},
     "output_type": "execute_result"
    }
   ],
   "source": [
    "# Dados Faltantes - Teste\n",
    "treino.isnull().sum()"
   ]
  },
  {
   "cell_type": "markdown",
   "id": "64ca1a95",
   "metadata": {},
   "source": [
    "# <font color='#150E0D' style='font-family:Trajan-Pro; font-size: 28px;'> Distribuição por Classe </font>\n",
    "<hr style='border: 2px solid #150E0D'>"
   ]
  },
  {
   "cell_type": "markdown",
   "id": "69f274ef",
   "metadata": {},
   "source": [
    "<p style='line-height: 2; text-align: justify; text-indent: 35px;'> As classes correspondem aos possíveis valores que as instâncias da “coluna resposta” podem assumir. Para este projeto, temos apenas duas  possíveis classes, sendo elas 0 e 1. O valor 0 na coluna resposta indica que o cliente está Adimplente com suas obrigações perante o banco. Analogamente, o valor 1 indica que ele está Inadimplente. </p>\n",
    "\n",
    "<p style='line-height: 2; text-align: justify; text-indent: 35px;'> Ao visualizar o gráfico de barras abaixo, fica evidente que existe um grande desbalanceamento no número de instâncias dos dados de treino. Existem 102.319 instâncias adimplentes enquanto a classe inadimplente possui apenas 7.318. Esse desbalanceamento entre as classes nos dados de treino pode propiciar que o algoritmo de aprendizado sofra enviesamento. </p>"
   ]
  },
  {
   "cell_type": "code",
   "execution_count": 15,
   "id": "654dfdb7",
   "metadata": {},
   "outputs": [
    {
     "data": {
      "text/plain": [
       "<AxesSubplot:title={'center':'Distribuição das Classes'}, xlabel='Status', ylabel='Quantidade'>"
      ]
     },
     "execution_count": 15,
     "metadata": {},
     "output_type": "execute_result"
    },
    {
     "data": {
      "image/png": "[encoded data removed]",
      "text/plain": [
       "<Figure size 432x432 with 1 Axes>"
      ]
     },
     "metadata": {
      "needs_background": "light"
     },
     "output_type": "display_data"
    }
   ],
   "source": [
    "# Distribuição das classes\n",
    "ax = sns.barplot(x=['Adimplente', 'Inadimplente'], y=treino['inadimplente'].value_counts())\n",
    "ax.figure.set_size_inches(6, 6)\n",
    "ax.set_title('Distribuição das Classes', fontsize=20)\n",
    "ax.set_xlabel('Status', fontsize=16)\n",
    "ax.set_ylabel('Quantidade', fontsize=16)\n",
    "ax.tick_params(labelsize=14)\n",
    "ax"
   ]
  },
  {
   "cell_type": "code",
   "execution_count": 16,
   "id": "4af04225",
   "metadata": {},
   "outputs": [
    {
     "data": {
      "text/html": [
       "<div>\n",
       "<style scoped>\n",
       "    .dataframe tbody tr th:only-of-type {\n",
       "        vertical-align: middle;\n",
       "    }\n",
       "\n",
       "    .dataframe tbody tr th {\n",
       "        vertical-align: top;\n",
       "    }\n",
       "\n",
       "    .dataframe thead th {\n",
       "        text-align: right;\n",
       "    }\n",
       "</style>\n",
       "<table border=\"1\" class=\"dataframe\">\n",
       "  <thead>\n",
       "    <tr style=\"text-align: right;\">\n",
       "      <th></th>\n",
       "      <th>Quantidades</th>\n",
       "      <th>Porcentagem</th>\n",
       "    </tr>\n",
       "  </thead>\n",
       "  <tbody>\n",
       "    <tr>\n",
       "      <th>Adimplente</th>\n",
       "      <td>102319</td>\n",
       "      <td>0.93</td>\n",
       "    </tr>\n",
       "    <tr>\n",
       "      <th>Inadimplente</th>\n",
       "      <td>7318</td>\n",
       "      <td>0.07</td>\n",
       "    </tr>\n",
       "  </tbody>\n",
       "</table>\n",
       "</div>"
      ],
      "text/plain": [
       "              Quantidades  Porcentagem\n",
       "Adimplente         102319         0.93\n",
       "Inadimplente         7318         0.07"
      ]
     },
     "execution_count": 16,
     "metadata": {},
     "output_type": "execute_result"
    }
   ],
   "source": [
    "df = pd.DataFrame(data=treino['inadimplente'].value_counts())\n",
    "df['Porcentagem'] = round(treino['inadimplente'].value_counts(normalize=True),2)\n",
    "df.rename(columns={\"inadimplente\":\"Quantidades\"}, index={0:\"Adimplente\", 1:\"Inadimplente\"}, inplace=True)\n",
    "df"
   ]
  },
  {
   "cell_type": "markdown",
   "id": "6c9114e0",
   "metadata": {},
   "source": [
    "<p style='line-height: 2; text-align: justify; text-indent: 35px;'> Para evitar esse possível enviesamento, será  aplicado a técnica de Undersampling, Ela consiste em limitar o número de instâncias de acordo com a classe menos predominante. Assim, serão excluídas as instâncias sobressalentes da classe adimplente, deixando o novo conjunto de dados com a mesma quantidade de dados de cada classe. </p>"
   ]
  },
  {
   "cell_type": "code",
   "execution_count": 17,
   "id": "ace14a86",
   "metadata": {},
   "outputs": [],
   "source": [
    "# Semente\n",
    "SEED = 42\n",
    "np.random.seed(SEED)"
   ]
  },
  {
   "cell_type": "code",
   "execution_count": 18,
   "id": "10bbdca8",
   "metadata": {},
   "outputs": [
    {
     "data": {
      "text/plain": [
       "95001"
      ]
     },
     "execution_count": 18,
     "metadata": {},
     "output_type": "execute_result"
    }
   ],
   "source": [
    "# Calculando a quantidade de linhas a serem dropadas\n",
    "qnt_linhas_dropadas = df['Quantidades'].iloc[0] - df['Quantidades'].iloc[1]\n",
    "qnt_linhas_dropadas"
   ]
  },
  {
   "cell_type": "code",
   "execution_count": 19,
   "id": "7f1f9959",
   "metadata": {},
   "outputs": [],
   "source": [
    "# Selecionando uma amostra dentro da classe adimplente\n",
    "filtro = treino['inadimplente'] == 0\n",
    "linhas_dropadas = treino[filtro].sample(qnt_linhas_dropadas)\n",
    "\n",
    "# Removendo as linhas selecionadas na amostragem\n",
    "treino.drop(linhas_dropadas.index, inplace=True)"
   ]
  },
  {
   "cell_type": "code",
   "execution_count": 20,
   "id": "1e428894",
   "metadata": {},
   "outputs": [
    {
     "data": {
      "text/plain": [
       "<AxesSubplot:title={'center':'Distribuição das Classes'}, xlabel='Status', ylabel='Quantidade'>"
      ]
     },
     "execution_count": 20,
     "metadata": {},
     "output_type": "execute_result"
    },
    {
     "data": {
      "image/png": "[encoded data removed]",
      "text/plain": [
       "<Figure size 432x432 with 1 Axes>"
      ]
     },
     "metadata": {
      "needs_background": "light"
     },
     "output_type": "display_data"
    }
   ],
   "source": [
    "# Distribuição das classes\n",
    "ax = sns.barplot(x=['Adimplente', 'Inadimplente'], y=treino['inadimplente'].value_counts())\n",
    "ax.figure.set_size_inches(6, 6)\n",
    "ax.set_title('Distribuição das Classes', fontsize=20)\n",
    "ax.set_xlabel('Status', fontsize=16)\n",
    "ax.set_ylabel('Quantidade', fontsize=16)\n",
    "ax.tick_params(labelsize=14)\n",
    "ax"
   ]
  },
  {
   "cell_type": "markdown",
   "id": "6162b42f",
   "metadata": {},
   "source": [
    "# <font color='#150E0D' style='font-family:Trajan-Pro; font-size: 28px;'> Modelo de Aprendizado </font>\n",
    "<hr style='border: 2px solid #150E0D'>"
   ]
  },
  {
   "cell_type": "markdown",
   "id": "95094108",
   "metadata": {},
   "source": [
    "<p style='line-height: 2; text-align: justify; text-indent: 35px;'> O algoritmo de machine learning escolhido para criação do modelo foi o XGboost. Esse algoritmo é um dos mais amplamente utilizados, principalmente, devido a sua eficácia. Isto se deve ao fato do XGboost ser baseado em duas técnicas de aprendizado de máquinas, sendo elas as árvores de decisão (Decision Trees) e o gradiente booster. A grande vantagem dos modelos baseados em árvores de decisão é que os dados não precisam ser transformados pois as escalas não afetam o desempenho do algoritmo. Outro ponto importante é que o modelo sabe quantificar a importância de cada feature para o processo de aprendizado. Dito isso, fica evidente porque o escolhemos.</p>"
   ]
  },
  {
   "cell_type": "code",
   "execution_count": 21,
   "id": "7b3b6a7c",
   "metadata": {},
   "outputs": [],
   "source": [
    "# Dados de Treino\n",
    "X_train = treino.drop(columns=['inadimplente'])\n",
    "y_train = treino['inadimplente']"
   ]
  },
  {
   "cell_type": "code",
   "execution_count": 22,
   "id": "55eadf95",
   "metadata": {},
   "outputs": [
    {
     "data": {
      "text/plain": [
       "XGBClassifier(base_score=0.5, booster='gbtree', callbacks=None,\n",
       "              colsample_bylevel=1, colsample_bynode=1, colsample_bytree=1,\n",
       "              early_stopping_rounds=None, enable_categorical=False,\n",
       "              eval_metric=None, gamma=0, gpu_id=-1, grow_policy='depthwise',\n",
       "              importance_type=None, interaction_constraints='',\n",
       "              learning_rate=0.300000012, max_bin=256, max_cat_to_onehot=4,\n",
       "              max_delta_step=0, max_depth=6, max_leaves=0, min_child_weight=1,\n",
       "              missing=nan, monotone_constraints='()', n_estimators=100,\n",
       "              n_jobs=0, num_parallel_tree=1, predictor='auto', random_state=0,\n",
       "              reg_alpha=0, reg_lambda=1, ...)"
      ]
     },
     "execution_count": 22,
     "metadata": {},
     "output_type": "execute_result"
    }
   ],
   "source": [
    "# Instanciando o modelo\n",
    "modelo = xgb.XGBClassifier()\n",
    "\n",
    "# Se tivessemos os resultados dos testes, seria possível \"tunar\" o modelo, testando diferentes configuração.\n",
    "# Como não se tem, deixei ele no modo default.\n",
    "\n",
    "# Treinando o modelo\n",
    "modelo.fit(X_train, y_train)"
   ]
  },
  {
   "cell_type": "code",
   "execution_count": 23,
   "id": "fc3c6bfe",
   "metadata": {},
   "outputs": [],
   "source": [
    "# Predição dos dados de teste\n",
    "y_pred = modelo.predict(teste)"
   ]
  },
  {
   "cell_type": "code",
   "execution_count": 24,
   "id": "fee23394",
   "metadata": {},
   "outputs": [
    {
     "data": {
      "text/html": [
       "<div>\n",
       "<style scoped>\n",
       "    .dataframe tbody tr th:only-of-type {\n",
       "        vertical-align: middle;\n",
       "    }\n",
       "\n",
       "    .dataframe tbody tr th {\n",
       "        vertical-align: top;\n",
       "    }\n",
       "\n",
       "    .dataframe thead th {\n",
       "        text-align: right;\n",
       "    }\n",
       "</style>\n",
       "<table border=\"1\" class=\"dataframe\">\n",
       "  <thead>\n",
       "    <tr style=\"text-align: right;\">\n",
       "      <th></th>\n",
       "      <th>util_linhas_inseguras</th>\n",
       "      <th>idade</th>\n",
       "      <th>vezes_passou_de_30_59_dias</th>\n",
       "      <th>razao_debito</th>\n",
       "      <th>salario_mensal</th>\n",
       "      <th>numero_linhas_crdto_aberto</th>\n",
       "      <th>numero_vezes_passou_90_dias</th>\n",
       "      <th>numero_emprestimos_imobiliarios</th>\n",
       "      <th>numero_de_vezes_que_passou_60_89_dias</th>\n",
       "      <th>numero_de_dependentes</th>\n",
       "      <th>inadimplente</th>\n",
       "    </tr>\n",
       "  </thead>\n",
       "  <tbody>\n",
       "    <tr>\n",
       "      <th>0</th>\n",
       "      <td>0.025849</td>\n",
       "      <td>62</td>\n",
       "      <td>0</td>\n",
       "      <td>0.081775</td>\n",
       "      <td>8180.0</td>\n",
       "      <td>3</td>\n",
       "      <td>0</td>\n",
       "      <td>2</td>\n",
       "      <td>0</td>\n",
       "      <td>0.0</td>\n",
       "      <td>0</td>\n",
       "    </tr>\n",
       "    <tr>\n",
       "      <th>1</th>\n",
       "      <td>0.667083</td>\n",
       "      <td>55</td>\n",
       "      <td>0</td>\n",
       "      <td>0.153112</td>\n",
       "      <td>2200.0</td>\n",
       "      <td>3</td>\n",
       "      <td>0</td>\n",
       "      <td>0</td>\n",
       "      <td>0</td>\n",
       "      <td>0.0</td>\n",
       "      <td>0</td>\n",
       "    </tr>\n",
       "    <tr>\n",
       "      <th>2</th>\n",
       "      <td>0.007093</td>\n",
       "      <td>44</td>\n",
       "      <td>0</td>\n",
       "      <td>0.148800</td>\n",
       "      <td>7499.0</td>\n",
       "      <td>20</td>\n",
       "      <td>0</td>\n",
       "      <td>1</td>\n",
       "      <td>0</td>\n",
       "      <td>0.0</td>\n",
       "      <td>0</td>\n",
       "    </tr>\n",
       "    <tr>\n",
       "      <th>3</th>\n",
       "      <td>0.091213</td>\n",
       "      <td>54</td>\n",
       "      <td>0</td>\n",
       "      <td>0.351635</td>\n",
       "      <td>5900.0</td>\n",
       "      <td>15</td>\n",
       "      <td>0</td>\n",
       "      <td>1</td>\n",
       "      <td>1</td>\n",
       "      <td>0.0</td>\n",
       "      <td>0</td>\n",
       "    </tr>\n",
       "    <tr>\n",
       "      <th>4</th>\n",
       "      <td>0.112680</td>\n",
       "      <td>54</td>\n",
       "      <td>0</td>\n",
       "      <td>0.065959</td>\n",
       "      <td>2167.0</td>\n",
       "      <td>3</td>\n",
       "      <td>0</td>\n",
       "      <td>0</td>\n",
       "      <td>0</td>\n",
       "      <td>0.0</td>\n",
       "      <td>0</td>\n",
       "    </tr>\n",
       "  </tbody>\n",
       "</table>\n",
       "</div>"
      ],
      "text/plain": [
       "   util_linhas_inseguras  idade  vezes_passou_de_30_59_dias  razao_debito  \\\n",
       "0               0.025849     62                           0      0.081775   \n",
       "1               0.667083     55                           0      0.153112   \n",
       "2               0.007093     44                           0      0.148800   \n",
       "3               0.091213     54                           0      0.351635   \n",
       "4               0.112680     54                           0      0.065959   \n",
       "\n",
       "   salario_mensal  numero_linhas_crdto_aberto  numero_vezes_passou_90_dias  \\\n",
       "0          8180.0                           3                            0   \n",
       "1          2200.0                           3                            0   \n",
       "2          7499.0                          20                            0   \n",
       "3          5900.0                          15                            0   \n",
       "4          2167.0                           3                            0   \n",
       "\n",
       "   numero_emprestimos_imobiliarios  numero_de_vezes_que_passou_60_89_dias  \\\n",
       "0                                2                                      0   \n",
       "1                                0                                      0   \n",
       "2                                1                                      0   \n",
       "3                                1                                      1   \n",
       "4                                0                                      0   \n",
       "\n",
       "   numero_de_dependentes  inadimplente  \n",
       "0                    0.0             0  \n",
       "1                    0.0             0  \n",
       "2                    0.0             0  \n",
       "3                    0.0             0  \n",
       "4                    0.0             0  "
      ]
     },
     "execution_count": 24,
     "metadata": {},
     "output_type": "execute_result"
    }
   ],
   "source": [
    "# Salvando as Predições\n",
    "teste['inadimplente'] = y_pred\n",
    "teste.to_csv('../Dados/teste_preditos.csv')\n",
    "teste.head(5)"
   ]
  },
  {
   "cell_type": "code",
   "execution_count": 25,
   "id": "b01a9b30",
   "metadata": {},
   "outputs": [],
   "source": [
    "#plot_tree(modelo, num_trees=0); plt.show()"
   ]
  }
 ],
 "metadata": {
  "kernelspec": {
   "display_name": "Python 3 (ipykernel)",
   "language": "python",
   "name": "python3"
  },
  "language_info": {
   "codemirror_mode": {
    "name": "ipython",
    "version": 3
   },
   "file_extension": ".py",
   "mimetype": "text/x-python",
   "name": "python",
   "nbconvert_exporter": "python",
   "pygments_lexer": "ipython3",
   "version": "3.9.7"
  }
 },
 "nbformat": 4,
 "nbformat_minor": 5
}
